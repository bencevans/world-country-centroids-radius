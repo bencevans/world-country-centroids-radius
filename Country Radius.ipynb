{
 "cells": [
  {
   "cell_type": "code",
   "execution_count": null,
   "metadata": {
    "tags": []
   },
   "outputs": [],
   "source": [
    "import fiona\n",
    "from shapely.geometry import shape\n",
    "import h3.api.basic_int as h3"
   ]
  },
  {
   "cell_type": "code",
   "execution_count": null,
   "metadata": {
    "tags": []
   },
   "outputs": [],
   "source": [
    "# https://www.naturalearthdata.com/http//www.naturalearthdata.com/download/10m/cultural/ne_10m_admin_0_countries.zip\n",
    "# v5.1.1 at time of writing\n",
    "countries = fiona.open('ne_10m_admin_0_countries.shp')"
   ]
  },
  {
   "cell_type": "code",
   "execution_count": null,
   "metadata": {},
   "outputs": [],
   "source": [
    "print(\"| Name | Center Latitude | Center Longitude | Radius (meters) |\")\n",
    "print(\"| ---- | --------------- | ---------------- | --------------- |\")\n",
    "\n",
    "countries = list(countries.values())\n",
    "countries.sort(key=lambda x: x['properties']['NAME'])\n",
    "\n",
    "for country in countries:\n",
    "    country_name = country['properties']['NAME']\n",
    "    country_extent = shape(country['geometry']).bounds\n",
    "    country_center = shape(country['geometry']).centroid\n",
    "    largest_axis = h3.point_dist((country_extent[1], country_extent[0]), (country_extent[3], country_extent[2]), unit='km')\n",
    "    print(f\"| {country_name} | {country_center.y} | {country_center.x} | {int(largest_axis * 1000 / 2)} |\")\n",
    "    # break"
   ]
  }
 ],
 "metadata": {
  "kernelspec": {
   "display_name": "base",
   "language": "python",
   "name": "python3"
  },
  "language_info": {
   "codemirror_mode": {
    "name": "ipython",
    "version": 3
   },
   "file_extension": ".py",
   "mimetype": "text/x-python",
   "name": "python",
   "nbconvert_exporter": "python",
   "pygments_lexer": "ipython3",
   "version": "3.9.13"
  },
  "orig_nbformat": 4
 },
 "nbformat": 4,
 "nbformat_minor": 2
}
